{
  "nbformat": 4,
  "nbformat_minor": 0,
  "metadata": {
    "colab": {
      "provenance": [],
      "collapsed_sections": []
    },
    "kernelspec": {
      "name": "python3",
      "display_name": "Python 3"
    },
    "language_info": {
      "name": "python"
    }
  },
  "cells": [
    {
      "cell_type": "markdown",
      "source": [
        "# 國立陽明交通大學課程爬蟲 - 基本資訊版\n",
        "\n",
        "此 Notebook 用於爬取 NYCU 課程的**基本資訊**，包括：\n",
        "- 課程代碼、課程名稱\n",
        "- 授課教師、學分、時數\n",
        "- 上課時間、教室\n",
        "- 人數限制、選課人數\n",
        "- 課程類型、英文授課標記\n",
        "\n",
        "**優點**：速度快，約 2-3 分鐘完成\n",
        "\n",
        "**不包含**：課程綱要、先修科目、評分方式等詳細資訊"
      ],
      "metadata": {
        "id": "title"
      }
    },
    {
      "cell_type": "markdown",
      "source": [
        "## 步驟 1: 參數設定\n",
        "\n",
        "修改下方的學年度和學期參數："
      ],
      "metadata": {
        "id": "step1"
      }
    },
    {
      "cell_type": "code",
      "source": [
        "# ============= 參數設定 =============\n",
        "YEAR = 114          # 學年度\n",
        "SEMESTER = 1        # 學期 (1=上學期, 2=下學期)\n",
        "# ==================================="
      ],
      "metadata": {
        "id": "config"
      },
      "execution_count": null,
      "outputs": []
    },
    {
      "cell_type": "markdown",
      "source": [
        "## 步驟 2: 安裝必要套件\n",
        "\n",
        "執行此儲存格安裝 requests 套件："
      ],
      "metadata": {
        "id": "step2"
      }
    },
    {
      "cell_type": "code",
      "source": [
        "!pip install requests -q"
      ],
      "metadata": {
        "id": "install"
      },
      "execution_count": null,
      "outputs": []
    },
    {
      "cell_type": "markdown",
      "source": [
        "## 步驟 3: 爬蟲程式碼\n",
        "\n",
        "執行此儲存格載入爬蟲類別："
      ],
      "metadata": {
        "id": "step3"
      }
    },
    {
      "cell_type": "code",
      "source": [
        "import json\n",
        "import re\n",
        "import requests\n",
        "import warnings\n",
        "from datetime import datetime\n",
        "\n",
        "warnings.filterwarnings('ignore')\n",
        "\n",
        "class NYCUCrawler:\n",
        "    def __init__(self, year, semester):\n",
        "        self.year = year\n",
        "        self.semester = semester\n",
        "        self.acysem = str(year) + str(semester)\n",
        "        self.flang = \"zh-tw\"\n",
        "        self.headers = {\n",
        "            \"user-agent\": \"Mozilla/5.0 (Windows NT 10.0; Win64; x64) AppleWebKit/537.36\"\n",
        "        }\n",
        "        self.dep_list = []\n",
        "        self.course_data = {}\n",
        "        \n",
        "    def parse_time(self, tc):\n",
        "        pattern = '[MTWRFSU][1-9yznabcd]+'\n",
        "        tc_list = tc.split(',')\n",
        "        time_list = []\n",
        "        for item in tc_list:\n",
        "            time = re.findall(pattern, item.split('-')[0])\n",
        "            for t in time:\n",
        "                for i in range(len(t)-1):\n",
        "                    time_list.append(t[0]+t[i+1])\n",
        "        return time_list\n",
        "\n",
        "    def parse_classroom(self, tc):\n",
        "        tc_list = tc.split(',')\n",
        "        classroom_list = []\n",
        "        for item in tc_list:\n",
        "            try:\n",
        "                classroom = item.split('-')[1]\n",
        "            except IndexError:\n",
        "                classroom = ''\n",
        "            classroom_list.append(classroom)\n",
        "        return classroom_list\n",
        "\n",
        "    def get_type(self):\n",
        "        res = requests.get('https://timetable.nycu.edu.tw/?r=main/get_type', \n",
        "                          headers=self.headers, verify=False)\n",
        "        return res.json()\n",
        "\n",
        "    def get_category(self, ftype):\n",
        "        res = requests.post('https://timetable.nycu.edu.tw/?r=main/get_category', \n",
        "                          data={'ftype': ftype, 'flang': self.flang, \n",
        "                                'acysem': self.acysem, 'acysemend': self.acysem},\n",
        "                          headers=self.headers, verify=False)\n",
        "        return res.json()\n",
        "\n",
        "    def get_college(self, fcategory, ftype):\n",
        "        res = requests.post('https://timetable.nycu.edu.tw/?r=main/get_college',\n",
        "                          data={'fcategory': fcategory, 'ftype': ftype, \n",
        "                                'flang': self.flang, 'acysem': self.acysem, \n",
        "                                'acysemend': self.acysem},\n",
        "                          headers=self.headers, verify=False)\n",
        "        return res.json()\n",
        "\n",
        "    def get_dep(self, fcollege, fcategory, ftype):\n",
        "        res = requests.post('https://timetable.nycu.edu.tw/?r=main/get_dep',\n",
        "                          data={'fcollege': fcollege, 'fcategory': fcategory, \n",
        "                                'ftype': ftype, 'flang': self.flang, \n",
        "                                'acysem': self.acysem, 'acysemend': self.acysem},\n",
        "                          headers=self.headers, verify=False)\n",
        "        return res.json()\n",
        "\n",
        "    def get_cos(self, dep):\n",
        "        url = \"https://timetable.nycu.edu.tw/?r=main/get_cos_list\"\n",
        "        data = {\n",
        "            \"m_acy\": self.year, \"m_sem\": self.semester,\n",
        "            \"m_acyend\": self.year, \"m_semend\": self.semester,\n",
        "            \"m_dep_uid\": dep, \"m_group\": \"**\", \"m_grade\": \"**\",\n",
        "            \"m_class\": \"**\", \"m_option\": \"**\", \"m_crsname\": \"**\",\n",
        "            \"m_teaname\": \"**\", \"m_cos_id\": \"**\", \"m_cos_code\": \"**\",\n",
        "            \"m_crstime\": \"**\", \"m_crsoutline\": \"**\", \"m_costype\": \"**\",\n",
        "            \"m_selcampus\": \"**\"\n",
        "        }\n",
        "\n",
        "        r = requests.post(url, headers=self.headers, verify=False, data=data)\n",
        "        if r.status_code != requests.codes.ok:\n",
        "            return\n",
        "\n",
        "        raw_data = json.loads(r.text)\n",
        "        for dep_value in raw_data:\n",
        "            language = raw_data[dep_value][\"language\"]\n",
        "            for dep_content in raw_data[dep_value]:\n",
        "                if re.match(\"^[1-2]+$\", dep_content) is None:\n",
        "                    continue\n",
        "                for cos_id in raw_data[dep_value][dep_content]:\n",
        "                    if cos_id in self.course_data:\n",
        "                        continue\n",
        "                        \n",
        "                    raw_cos_data = raw_data[dep_value][dep_content][cos_id]\n",
        "                    time_list = self.parse_time(raw_cos_data[\"cos_time\"])\n",
        "                    classroom_list = self.parse_classroom(raw_cos_data[\"cos_time\"])\n",
        "                    brief_code = list(raw_data[dep_value][\"brief\"][cos_id].keys())[0]\n",
        "                    brief = raw_data[dep_value][\"brief\"][cos_id][brief_code]['brief'].split(',')\n",
        "                    name = raw_cos_data[\"cos_cname\"].replace(\"(英文授課)\", '').replace(\"(英文班)\", '')\n",
        "                    \n",
        "                    self.course_data[cos_id] = {\n",
        "                        \"id\": raw_cos_data[\"cos_id\"],\n",
        "                        \"num_limit\": raw_cos_data[\"num_limit\"],\n",
        "                        \"reg_num\": raw_cos_data[\"reg_num\"],\n",
        "                        \"name\": name,\n",
        "                        \"credit\": raw_cos_data[\"cos_credit\"],\n",
        "                        \"hours\": raw_cos_data[\"cos_hours\"],\n",
        "                        \"teacher\": raw_cos_data[\"teacher\"],\n",
        "                        \"time\": time_list,\n",
        "                        \"classroom\": classroom_list,\n",
        "                        \"time-classroom\": raw_cos_data[\"cos_time\"],\n",
        "                        \"english\": language[cos_id][\"授課語言代碼\"] == \"en-us\",\n",
        "                        \"brief\": brief,\n",
        "                        \"type\": raw_cos_data[\"cos_type\"],\n",
        "                    }\n",
        "\n",
        "    def crawl(self):\n",
        "        print(\"=\" * 70)\n",
        "        print(f\"NYCU 課程爬蟲 - {self.year} 學年度第 {self.semester} 學期 (基本資訊)\")\n",
        "        print(\"=\" * 70)\n",
        "        \n",
        "        start_time = datetime.now()\n",
        "        \n",
        "        print(\"\\n取得課程基本資料...\")\n",
        "        types = self.get_type()\n",
        "        \n",
        "        for i in range(len(types)):\n",
        "            ftype = types[i][\"uid\"]\n",
        "            print(f\"  處理: {types[i]['cname']}\")\n",
        "            categories = self.get_category(ftype)\n",
        "            \n",
        "            if types[i][\"cname\"] == \"其他課程\":\n",
        "                for fcategory in categories.keys():\n",
        "                    if fcategory not in self.dep_list:\n",
        "                        self.dep_list.append(fcategory)\n",
        "                        self.get_cos(fcategory)\n",
        "            else:\n",
        "                for fcategory in categories.keys():\n",
        "                    colleges = self.get_college(fcategory, ftype)\n",
        "                    if len(colleges):\n",
        "                        for fcollege in colleges.keys():\n",
        "                            deps = self.get_dep(fcollege, fcategory, ftype)\n",
        "                            if len(deps):\n",
        "                                for fdep in deps.keys():\n",
        "                                    if fdep not in self.dep_list:\n",
        "                                        self.dep_list.append(fdep)\n",
        "                                        self.get_cos(fdep)\n",
        "                    else:\n",
        "                        deps = self.get_dep(\"\", fcategory, ftype)\n",
        "                        if len(deps):\n",
        "                            for fdep in deps.keys():\n",
        "                                if fdep not in self.dep_list:\n",
        "                                    self.dep_list.append(fdep)\n",
        "                                    self.get_cos(fdep)\n",
        "        \n",
        "        end_time = datetime.now()\n",
        "        elapsed = end_time - start_time\n",
        "        \n",
        "        print(f\"\\n已取得 {len(self.course_data)} 門課程的基本資料\")\n",
        "        print(f\"花費時間: {elapsed}\")\n",
        "        print(\"=\" * 70)\n",
        "        \n",
        "        return self.course_data\n",
        "\n",
        "print(\"✓ 爬蟲類別載入完成\")"
      ],
      "metadata": {
        "id": "crawler_code"
      },
      "execution_count": null,
      "outputs": []
    },
    {
      "cell_type": "markdown",
      "source": [
        "## 步驟 4: 執行爬蟲\n",
        "\n",
        "開始爬取課程資料："
      ],
      "metadata": {
        "id": "step4"
      }
    },
    {
      "cell_type": "code",
      "source": [
        "# 建立爬蟲實例並執行\n",
        "crawler = NYCUCrawler(YEAR, SEMESTER)\n",
        "course_data = crawler.crawl()"
      ],
      "metadata": {
        "id": "run_crawler"
      },
      "execution_count": null,
      "outputs": []
    },
    {
      "cell_type": "markdown",
      "source": [
        "## 步驟 5: 查看結果\n",
        "\n",
        "顯示統計資訊和範例資料："
      ],
      "metadata": {
        "id": "step5"
      }
    },
    {
      "cell_type": "code",
      "source": [
        "# 統計資訊\n",
        "print(f\"總課程數: {len(course_data)}\")\n",
        "\n",
        "# 英文授課統計\n",
        "english_courses = sum(1 for c in course_data.values() if c.get('english', False))\n",
        "print(f\"英文授課: {english_courses} ({english_courses/len(course_data)*100:.1f}%)\")\n",
        "\n",
        "# 選別統計\n",
        "course_types = {}\n",
        "for c in course_data.values():\n",
        "    ctype = c.get('type', '未知')\n",
        "    course_types[ctype] = course_types.get(ctype, 0) + 1\n",
        "\n",
        "print(\"\\n課程選別:\")\n",
        "for ctype, count in sorted(course_types.items(), key=lambda x: x[1], reverse=True):\n",
        "    print(f\"  {ctype}: {count} ({count/len(course_data)*100:.1f}%)\")\n",
        "\n",
        "# 顯示第一門課程的完整資料\n",
        "print(\"\\n範例課程資料:\")\n",
        "first_id = list(course_data.keys())[0]\n",
        "print(json.dumps(course_data[first_id], ensure_ascii=False, indent=2))"
      ],
      "metadata": {
        "id": "show_results"
      },
      "execution_count": null,
      "outputs": []
    },
    {
      "cell_type": "markdown",
      "source": [
        "## 步驟 6: 下載資料\n",
        "\n",
        "將資料儲存為 JSON 檔案並下載："
      ],
      "metadata": {
        "id": "step6"
      }
    },
    {
      "cell_type": "code",
      "source": [
        "# 儲存為 JSON 檔案\n",
        "filename = f\"{YEAR}-{SEMESTER}_data.json\"\n",
        "with open(filename, 'w', encoding='utf-8') as f:\n",
        "    json.dump(course_data, f, ensure_ascii=False, indent=2)\n",
        "\n",
        "print(f\"✓ 資料已儲存至: {filename}\")\n",
        "print(f\"檔案大小: {os.path.getsize(filename)/1024:.2f} KB\")\n",
        "\n",
        "# 下載檔案\n",
        "from google.colab import files\n",
        "files.download(filename)\n",
        "print(\"\\n✓ 檔案下載已開始\")"
      ],
      "metadata": {
        "id": "download"
      },
      "execution_count": null,
      "outputs": []
    },
    {
      "cell_type": "markdown",
      "source": [
        "## 資料結構說明\n",
        "\n",
        "每門課程包含以下欄位：\n",
        "\n",
        "```json\n",
        "{\n",
        "  \"id\": \"課程代碼\",\n",
        "  \"name\": \"課程名稱\",\n",
        "  \"teacher\": \"授課教師\",\n",
        "  \"credit\": \"學分\",\n",
        "  \"hours\": \"時數\",\n",
        "  \"time\": [\"上課時間列表\"],\n",
        "  \"classroom\": [\"教室列表\"],\n",
        "  \"time-classroom\": \"時間教室字串\",\n",
        "  \"num_limit\": \"人數上限\",\n",
        "  \"reg_num\": \"已選人數\",\n",
        "  \"english\": \"是否英文授課\",\n",
        "  \"type\": \"必修/選修\",\n",
        "  \"brief\": [\"課程標籤\"]\n",
        "}\n",
        "```\n",
        "\n",
        "## 時間代碼對照\n",
        "\n",
        "- **星期**: M=一, T=二, W=三, R=四, F=五, S=六, U=日\n",
        "- **節次**: y=06:00-06:50, z=07:00-07:50, 1=08:00-08:50, ..., d=21:30-22:20\n",
        "\n",
        "例如：`\"T56\"` = 星期二第5,6節 (13:20-15:10)"
      ],
      "metadata": {
        "id": "data_structure"
      }
    }
  ]
}
