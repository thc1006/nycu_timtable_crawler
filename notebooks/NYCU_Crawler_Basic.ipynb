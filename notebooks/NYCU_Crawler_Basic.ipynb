{
 "nbformat": 4,
 "nbformat_minor": 0,
 "metadata": {
  "colab": {
   "provenance": [],
   "collapsed_sections": []
  },
  "kernelspec": {
   "name": "python3",
   "display_name": "Python 3"
  },
  "language_info": {
   "name": "python"
  }
 },
 "cells": [
  {
   "cell_type": "markdown",
   "source": "# 國立陽明交通大學課程爬蟲 v4.0 - 基本資訊版\n\n此 Notebook 用於爬取 NYCU 課程的**基本資訊**，包括：\n- 課程代碼、課程名稱\n- 授課教師、學分、時數\n- **結構化上課時間**（含星期、節次、具體時間）\n- **結構化教室資訊**（含教室、樓層）\n- 人數限制、選課人數\n- 課程類型、英文授課標記\n\n**優點**：\n- 速度快，約 2-3 分鐘完成\n- **新格式 v2.0**：陣列格式 + metadata\n- **結構化資料**：時間、教室自動解析\n- **數字型別**：學分、時數使用 number\n\n**不包含**：課程綱要、先修科目、評分方式等詳細資訊\n\n**版本**：v4.0 | **資料格式**：v2.0",
   "metadata": {
    "id": "title"
   }
  },
  {
   "cell_type": "markdown",
   "source": [
    "## 步驟 1: 參數設定\n",
    "\n",
    "修改下方的學年度和學期參數："
   ],
   "metadata": {
    "id": "step1"
   }
  },
  {
   "cell_type": "code",
   "source": [
    "# ============= 參數設定 =============\n",
    "YEAR = 114          # 學年度\n",
    "SEMESTER = 1        # 學期 (1=上學期, 2=下學期)\n",
    "# ==================================="
   ],
   "metadata": {
    "id": "config"
   },
   "execution_count": null,
   "outputs": []
  },
  {
   "cell_type": "markdown",
   "source": [
    "## 步驟 2: 安裝必要套件\n",
    "\n",
    "執行此儲存格安裝 requests 套件："
   ],
   "metadata": {
    "id": "step2"
   }
  },
  {
   "cell_type": "code",
   "source": [
    "!pip install requests -q"
   ],
   "metadata": {
    "id": "install"
   },
   "execution_count": null,
   "outputs": []
  },
  {
   "cell_type": "markdown",
   "source": [
    "## 步驟 3: 爬蟲程式碼\n",
    "\n",
    "執行此儲存格載入爬蟲類別："
   ],
   "metadata": {
    "id": "step3"
   }
  },
  {
   "cell_type": "code",
   "source": "import json\nimport re\nimport requests\nimport warnings\nfrom datetime import datetime, timedelta\n\nwarnings.filterwarnings('ignore')\n\nclass NYCUCrawler:\n    \"\"\"陽明交大課程爬蟲 v4.0\"\"\"\n    \n    # 時段對應表\n    PERIOD_TIME_MAP = {\n        'y': ('06:00', '06:50'), 'z': ('07:00', '07:50'),\n        '1': ('08:00', '08:50'), '2': ('09:00', '09:50'),\n        '3': ('10:10', '11:00'), '4': ('11:10', '12:00'),\n        'n': ('12:10', '13:00'),\n        '5': ('13:20', '14:10'), '6': ('14:20', '15:10'),\n        '7': ('15:30', '16:20'), '8': ('16:30', '17:20'),\n        '9': ('17:30', '18:20'),\n        'a': ('18:25', '19:15'), 'b': ('19:20', '20:10'),\n        'c': ('20:15', '21:05'), 'd': ('21:10', '22:00')\n    }\n    \n    # 星期對應表\n    DAY_MAP = {\n        'M': (1, 'Monday'), 'T': (2, 'Tuesday'), 'W': (3, 'Wednesday'),\n        'R': (4, 'Thursday'), 'F': (5, 'Friday'), 'S': (6, 'Saturday'),\n        'U': (7, 'Sunday')\n    }\n    \n    def __init__(self, year, semester):\n        self.year = year\n        self.semester = semester\n        self.acysem = str(year) + str(semester)\n        self.flang = \"zh-tw\"\n        self.headers = {\n            \"user-agent\": \"Mozilla/5.0 (Windows NT 10.0; Win64; x64) AppleWebKit/537.36\"\n        }\n        self.dep_list = []\n        self.courses_list = []  # v4.0: 改用陣列\n        \n    def parse_schedule_structured(self, time_classroom_str):\n        \"\"\"將時間-教室字串解析為結構化的 schedule 陣列\"\"\"\n        schedule = []\n        if not time_classroom_str or time_classroom_str.strip() == '':\n            return schedule\n        \n        segments = time_classroom_str.split(',')\n        \n        for segment in segments:\n            segment = segment.strip()\n            if not segment:\n                continue\n            \n            parts = segment.split('-')\n            time_part = parts[0] if parts else ''\n            classroom_part = parts[1] if len(parts) > 1 else ''\n            \n            pattern = r'([MTWRFSU])([1-9yznabcd]+)'\n            matches = re.findall(pattern, time_part)\n            \n            for day_code, periods_str in matches:\n                if day_code not in self.DAY_MAP:\n                    continue\n                \n                day_num, day_name = self.DAY_MAP[day_code]\n                periods = [p for p in periods_str]\n                period_numbers = []\n                \n                for p in periods:\n                    if p in self.PERIOD_TIME_MAP:\n                        if p == 'y': period_numbers.append(0)\n                        elif p == 'z': period_numbers.append(1)\n                        elif p == 'n': period_numbers.append(7)\n                        elif p == 'a': period_numbers.append(10)\n                        elif p == 'b': period_numbers.append(11)\n                        elif p == 'c': period_numbers.append(12)\n                        elif p == 'd': period_numbers.append(13)\n                        else: period_numbers.append(int(p))\n                \n                if not period_numbers:\n                    continue\n                \n                first_period = periods[0]\n                last_period = periods[-1]\n                time_start = self.PERIOD_TIME_MAP.get(first_period, ('', ''))[0]\n                time_end = self.PERIOD_TIME_MAP.get(last_period, ('', ''))[1]\n                \n                classroom = ''\n                floor = ''\n                if classroom_part:\n                    floor_match = re.search(r'\\[([^\\]]+)\\]', classroom_part)\n                    if floor_match:\n                        floor = floor_match.group(1)\n                        classroom = classroom_part[:floor_match.start()]\n                    else:\n                        classroom = classroom_part\n                \n                schedule.append({\n                    \"day\": day_num,\n                    \"day_name\": day_name,\n                    \"periods\": period_numbers,\n                    \"time_start\": time_start,\n                    \"time_end\": time_end,\n                    \"classroom\": classroom,\n                    \"floor\": floor\n                })\n        \n        return schedule\n    \n    def get_type(self):\n        res = requests.get('https://timetable.nycu.edu.tw/?r=main/get_type', \n                          headers=self.headers, verify=False)\n        return res.json()\n    \n    def get_category(self, ftype):\n        res = requests.post('https://timetable.nycu.edu.tw/?r=main/get_category', \n                          data={'ftype': ftype, 'flang': self.flang, \n                                'acysem': self.acysem, 'acysemend': self.acysem},\n                          headers=self.headers, verify=False)\n        return res.json()\n    \n    def get_college(self, fcategory, ftype):\n        res = requests.post('https://timetable.nycu.edu.tw/?r=main/get_college',\n                          data={'fcategory': fcategory, 'ftype': ftype, \n                                'flang': self.flang, 'acysem': self.acysem, \n                                'acysemend': self.acysem},\n                          headers=self.headers, verify=False)\n        return res.json()\n    \n    def get_dep(self, fcollege, fcategory, ftype):\n        res = requests.post('https://timetable.nycu.edu.tw/?r=main/get_dep',\n                          data={'fcollege': fcollege, 'fcategory': fcategory, \n                                'ftype': ftype, 'flang': self.flang, \n                                'acysem': self.acysem, 'acysemend': self.acysem},\n                          headers=self.headers, verify=False)\n        return res.json()\n    \n    def get_cos(self, dep):\n        url = \"https://timetable.nycu.edu.tw/?r=main/get_cos_list\"\n        data = {\n            \"m_acy\": self.year, \"m_sem\": self.semester,\n            \"m_acyend\": self.year, \"m_semend\": self.semester,\n            \"m_dep_uid\": dep, \"m_group\": \"**\", \"m_grade\": \"**\",\n            \"m_class\": \"**\", \"m_option\": \"**\", \"m_crsname\": \"**\",\n            \"m_teaname\": \"**\", \"m_cos_id\": \"**\", \"m_cos_code\": \"**\",\n            \"m_crstime\": \"**\", \"m_crsoutline\": \"**\", \"m_costype\": \"**\",\n            \"m_selcampus\": \"**\"\n        }\n        \n        r = requests.post(url, headers=self.headers, verify=False, data=data)\n        if r.status_code != requests.codes.ok:\n            return\n        \n        raw_data = json.loads(r.text)\n        existing_ids = {course['id'] for course in self.courses_list}\n        \n        for dep_value in raw_data:\n            language = raw_data[dep_value][\"language\"]\n            for dep_content in raw_data[dep_value]:\n                if re.match(\"^[1-2]+$\", dep_content) is None:\n                    continue\n                for cos_id in raw_data[dep_value][dep_content]:\n                    if cos_id in existing_ids:\n                        continue\n                    \n                    raw_cos_data = raw_data[dep_value][dep_content][cos_id]\n                    schedule = self.parse_schedule_structured(raw_cos_data[\"cos_time\"])\n                    \n                    brief_code = list(raw_data[dep_value][\"brief\"][cos_id].keys())[0]\n                    brief = raw_data[dep_value][\"brief\"][cos_id][brief_code]['brief'].split(',')\n                    tags = [tag.strip() for tag in brief if tag.strip()]\n                    \n                    name = raw_cos_data[\"cos_cname\"].replace(\"(英文授課)\", '').replace(\"(英文班)\", '').strip()\n                    \n                    def safe_int(val, default=0):\n                        try:\n                            return int(val) if val and str(val).strip() else default\n                        except:\n                            return default\n                    \n                    def safe_float(val, default=0.0):\n                        try:\n                            return float(val) if val and str(val).strip() else default\n                        except:\n                            return default\n                    \n                    course = {\n                        \"id\": raw_cos_data[\"cos_id\"],\n                        \"semester_code\": self.acysem,\n                        \"name\": name,\n                        \"teacher\": raw_cos_data[\"teacher\"],\n                        \"credit\": safe_float(raw_cos_data[\"cos_credit\"]),\n                        \"hours\": safe_float(raw_cos_data[\"cos_hours\"]),\n                        \"type\": raw_cos_data[\"cos_type\"],\n                        \"enrollment\": {\n                            \"limit\": safe_int(raw_cos_data[\"num_limit\"]),\n                            \"current\": safe_int(raw_cos_data[\"reg_num\"])\n                        },\n                        \"schedule\": schedule,\n                        \"english_taught\": language[cos_id][\"授課語言代碼\"] == \"en-us\",\n                        \"tags\": tags,\n                        \"raw_time_classroom\": raw_cos_data[\"cos_time\"]\n                    }\n                    \n                    self.courses_list.append(course)\n                    existing_ids.add(cos_id)\n    \n    def crawl(self):\n        print(\"=\" * 70)\n        print(f\"NYCU 課程爬蟲 v4.0 - {self.year}-{self.semester} (基本資訊)\")\n        print(\"=\" * 70)\n        \n        start_time = datetime.now()\n        \n        print(\"\\n取得課程基本資料...\")\n        types = self.get_type()\n        \n        for i in range(len(types)):\n            ftype = types[i][\"uid\"]\n            print(f\"  處理: {types[i]['cname']}\")\n            categories = self.get_category(ftype)\n            \n            if types[i][\"cname\"] == \"其他課程\":\n                for fcategory in categories.keys():\n                    if fcategory not in self.dep_list:\n                        self.dep_list.append(fcategory)\n                        self.get_cos(fcategory)\n            else:\n                for fcategory in categories.keys():\n                    colleges = self.get_college(fcategory, ftype)\n                    if len(colleges):\n                        for fcollege in colleges.keys():\n                            deps = self.get_dep(fcollege, fcategory, ftype)\n                            if len(deps):\n                                for fdep in deps.keys():\n                                    if fdep not in self.dep_list:\n                                        self.dep_list.append(fdep)\n                                        self.get_cos(fdep)\n                    else:\n                        deps = self.get_dep(\"\", fcategory, ftype)\n                        if len(deps):\n                            for fdep in deps.keys():\n                                if fdep not in self.dep_list:\n                                    self.dep_list.append(fdep)\n                                    self.get_cos(fdep)\n        \n        # 建立 metadata\n        semester_name_map = {1: \"上學期\", 2: \"下學期\", 'X': \"暑期\"}\n        semester_name = semester_name_map.get(self.semester, f\"第{self.semester}學期\")\n        \n        metadata = {\n            \"semester\": f\"{self.year}-{self.semester}\",\n            \"semester_name\": f\"{self.year-1}學年度{semester_name}\",\n            \"academic_year\": self.year,\n            \"term\": self.semester,\n            \"total_courses\": len(self.courses_list),\n            \"last_updated\": datetime.now().isoformat() + 'Z',\n            \"source_url\": \"https://timetable.nycu.edu.tw\",\n            \"crawler_version\": \"4.0\",\n            \"data_format_version\": \"2.0\"\n        }\n        \n        end_time = datetime.now()\n        elapsed = end_time - start_time\n        \n        print(f\"\\n已取得 {len(self.courses_list)} 門課程的基本資料\")\n        print(f\"花費時間: {elapsed}\")\n        print(f\"資料格式: v2.0 (陣列格式)\")\n        print(\"=\" * 70)\n        \n        return {\n            \"metadata\": metadata,\n            \"courses\": self.courses_list\n        }\n\nprint(\"爬蟲類別載入完成 (v4.0)\")",
   "metadata": {
    "id": "crawler_code"
   },
   "execution_count": null,
   "outputs": []
  },
  {
   "cell_type": "markdown",
   "source": [
    "## 步驟 4: 執行爬蟲\n",
    "\n",
    "開始爬取課程資料："
   ],
   "metadata": {
    "id": "step4"
   }
  },
  {
   "cell_type": "code",
   "source": "# 建立爬蟲實例並執行\ncrawler = NYCUCrawler(YEAR, SEMESTER)\ndata = crawler.crawl()  # v4.0: 回傳包含 metadata 和 courses 的字典",
   "metadata": {
    "id": "run_crawler"
   },
   "execution_count": null,
   "outputs": []
  },
  {
   "cell_type": "markdown",
   "source": [
    "## 步驟 5: 查看結果\n",
    "\n",
    "顯示統計資訊和範例資料："
   ],
   "metadata": {
    "id": "step5"
   }
  },
  {
   "cell_type": "code",
   "source": "# === 資料格式 v2.0 統計 ===\n\n# Metadata 資訊\nprint(\"=== Metadata ===\")\nprint(f\"學期: {data['metadata']['semester']} ({data['metadata']['semester_name']})\")\nprint(f\"總課程數: {data['metadata']['total_courses']}\")\nprint(f\"資料格式版本: {data['metadata']['data_format_version']}\")\nprint(f\"爬蟲版本: {data['metadata']['crawler_version']}\")\nprint()\n\n# 課程統計\ncourses = data['courses']\nprint(\"=== 課程統計 ===\")\nprint(f\"總課程數: {len(courses)}\")\n\n# 英文授課統計\nenglish_courses = sum(1 for c in courses if c.get('english_taught', False))\nprint(f\"英文授課: {english_courses} ({english_courses/len(courses)*100:.1f}%)\")\n\n# 選別統計\ncourse_types = {}\nfor c in courses:\n    ctype = c.get('type', '未知')\n    course_types[ctype] = course_types.get(ctype, 0) + 1\n\nprint(\"\\n課程選別:\")\nfor ctype, count in sorted(course_types.items(), key=lambda x: x[1], reverse=True):\n    print(f\"  {ctype}: {count} ({count/len(courses)*100:.1f}%)\")\n\n# 顯示第一門課程的完整資料（v2.0 格式）\nprint(\"\\n=== 範例課程 (v2.0 格式) ===\")\nfirst_course = courses[0]\nprint(json.dumps(first_course, ensure_ascii=False, indent=2))",
   "metadata": {
    "id": "show_results"
   },
   "execution_count": null,
   "outputs": []
  },
  {
   "cell_type": "markdown",
   "source": [
    "## 步驟 6: 下載資料\n",
    "\n",
    "將資料儲存為 JSON 檔案並下載："
   ],
   "metadata": {
    "id": "step6"
   }
  },
  {
   "cell_type": "code",
   "source": "import os\n\n# 儲存為 JSON 檔案 (v2.0 格式)\nfilename = f\"{YEAR}-{SEMESTER}_data.json\"\nwith open(filename, 'w', encoding='utf-8') as f:\n    json.dump(data, f, ensure_ascii=False, indent=2)\n\nfile_size = os.path.getsize(filename)\nprint(f\"資料已儲存至: {filename}\")\nprint(f\"檔案大小: {file_size/1024/1024:.2f} MB\")\nprint(f\"資料格式: v2.0 (陣列格式 + metadata)\")\nprint()\nprint(\"資料結構:\")\nprint(f\"  - metadata: {len(data['metadata'])} 個欄位\")\nprint(f\"  - courses: {len(data['courses'])} 門課程\")\n\n# 下載檔案 (Google Colab)\ntry:\n    from google.colab import files\n    files.download(filename)\n    print(f\"\\n檔案下載已開始: {filename}\")\nexcept ImportError:\n    print(f\"\\n不在 Colab 環境，檔案已儲存在本地: {filename}\")",
   "metadata": {
    "id": "download"
   },
   "execution_count": null,
   "outputs": []
  },
  {
   "cell_type": "markdown",
   "source": "## 資料結構說明 (v2.0 格式)\n\n### 整體結構\n\n```json\n{\n  \"metadata\": {\n    \"semester\": \"114-1\",\n    \"semester_name\": \"113學年度上學期\",\n    \"total_courses\": 8028,\n    \"data_format_version\": \"2.0\",\n    \"crawler_version\": \"4.0\"\n  },\n  \"courses\": [ /* 課程陣列 */ ]\n}\n```\n\n### 單門課程欄位\n\n```json\n{\n  \"id\": \"515002\",\n  \"semester_code\": \"1141\",\n  \"name\": \"微分方程\",\n  \"teacher\": \"楊春美\",\n  \"credit\": 3.0,              // v2.0: 數字型別\n  \"hours\": 3.0,               // v2.0: 數字型別\n  \"type\": \"必修\",\n  \"enrollment\": {             // v2.0: 巢狀物件\n    \"limit\": 55,\n    \"current\": 66\n  },\n  \"schedule\": [               // v2.0: 結構化時間\n    {\n      \"day\": 1,\n      \"day_name\": \"Monday\",\n      \"periods\": [3, 4],\n      \"time_start\": \"10:10\",\n      \"time_end\": \"12:00\",\n      \"classroom\": \"EE102\",\n      \"floor\": \"GF\"\n    }\n  ],\n  \"english_taught\": false,\n  \"tags\": [\"工程數學\"],\n  \"raw_time_classroom\": \"M34W2-EE102[GF]\"\n}\n```\n\n### v2.0 主要改進\n\n| 項目 | 舊格式 | 新格式 v2.0 |\n|------|--------|-------------|\n| 資料結構 | 物件 `{}` | 陣列 `[]` + metadata |\n| 學分/時數 | 字串 `\"3.00\"` | 數字 `3.0` |\n| 時間資訊 | 字串陣列 `[\"M3\", \"M4\"]` | 結構化物件（含時間、教室） |\n| 人數資訊 | 兩個欄位 | 巢狀物件 `enrollment` |\n\n### 時段對照表\n\n- **星期代碼**: M=Monday(一), T=Tuesday(二), W=Wednesday(三), R=Thursday(四), F=Friday(五)\n- **節次代碼**: \n  - y = 06:00-06:50\n  - z = 07:00-07:50\n  - 1-9 = 08:00-18:20\n  - n = 12:10-13:00 (午休)\n  - a-d = 18:25-22:00 (晚上)\n\n### 使用範例\n\n```python\n# 取得所有課程\ncourses = data['courses']\n\n# 篩選必修課程\nrequired = [c for c in courses if c['type'] == '必修']\n\n# 篩選 3 學分課程\nthree_credits = [c for c in courses if c['credit'] == 3.0]\n\n# 篩選星期一有課的課程\nmonday_courses = [c for c in courses \n                  if any(s['day'] == 1 for s in c['schedule'])]\n\n# 取得課程時間資訊\nfor course in courses[:5]:\n    for sched in course['schedule']:\n        print(f\"{course['name']}: {sched['day_name']} {sched['time_start']}-{sched['time_end']}\")\n```\n\n---\n\n**版本**: v4.0 | **資料格式**: v2.0 | **更新日期**: 2025-01-19",
   "metadata": {
    "id": "data_structure"
   }
  }
 ]
}